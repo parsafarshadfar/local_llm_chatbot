{
 "cells": [
  {
   "cell_type": "markdown",
   "metadata": {},
   "source": [
    "Install Ollama Framework: \n",
    "https://ollama.com/download/\n",
    "\n",
    "then run the following cell"
   ]
  },
  {
   "cell_type": "code",
   "execution_count": 5,
   "metadata": {},
   "outputs": [],
   "source": [
    "%%capture\n",
    "%pip install ollama"
   ]
  },
  {
   "cell_type": "markdown",
   "metadata": {},
   "source": [
    "Download any model you need"
   ]
  },
  {
   "cell_type": "code",
   "execution_count": null,
   "metadata": {},
   "outputs": [],
   "source": [
    "import ollama\n",
    "\n",
    "ollama.pull(model='phi3:14b') # Microsoft open-source LLM \n",
    "# ollama.pull(model='llama3.1') # Meta open-source LLM "
   ]
  },
  {
   "cell_type": "markdown",
   "metadata": {},
   "source": [
    "Run the following code to use the chatbot"
   ]
  },
  {
   "cell_type": "code",
   "execution_count": null,
   "metadata": {},
   "outputs": [],
   "source": [
    "import json\n",
    "\n",
    "model = 'phi3:14b' \n",
    "# model = 'llama3.1'\n",
    "\n",
    "#Roles\n",
    "USER, ASSISTANT, SYSTEM = 'user', 'assistant' , 'system'\n",
    "\n",
    "#Messages history #list of dictionaries\n",
    "all_messages = [] \n",
    "\n",
    "def add_history(content, role):\n",
    "    '''\n",
    "    input: content, role\n",
    "    output: None\n",
    "    \n",
    "    add message to messages history\n",
    "    '''\n",
    "    all_messages.append({'role': role, 'content': content})\n",
    "\n",
    "def chat(message):\n",
    "    '''\n",
    "    input: message\n",
    "    output: None\n",
    "    \n",
    "    chat with model\n",
    "    '''\n",
    "\n",
    "    # add_history('''You are a text paraphrasing assistant.''', SYSTEM)\n",
    "\n",
    "    add_history(message, USER)\n",
    "\n",
    "    #get response from model\n",
    "    response = ollama.chat(model=model, messages=all_messages, stream=True)\n",
    "\n",
    "    #print response\n",
    "    complete_message = ''\n",
    "    for line in response:\n",
    "        complete_message += line['message']['content']\n",
    "        print(line['message']['content'], end='', flush=True)\n",
    "\n",
    "    #update messages history with model's response\n",
    "    add_history(complete_message, ASSISTANT) \n",
    "\n",
    "    #save messages history\n",
    "    with open('history.json', 'w') as file: \n",
    "        json.dump(all_messages, file)\n",
    "        \n",
    "    print('\\n----------------------------------')\n",
    "\n",
    "\n",
    "while True:\n",
    "    prompt = input('Enter your message: ')\n",
    "    if prompt.lower() == 'zzz':\n",
    "        break\n",
    "    else:\n",
    "        chat(prompt)"
   ]
  }
 ],
 "metadata": {
  "kernelspec": {
   "display_name": "llm",
   "language": "python",
   "name": "python3"
  },
  "language_info": {
   "codemirror_mode": {
    "name": "ipython",
    "version": 3
   },
   "file_extension": ".py",
   "mimetype": "text/x-python",
   "name": "python",
   "nbconvert_exporter": "python",
   "pygments_lexer": "ipython3",
   "version": "3.10.0"
  }
 },
 "nbformat": 4,
 "nbformat_minor": 2
}
